{
 "cells": [
  {
   "cell_type": "code",
   "execution_count": 33,
   "metadata": {
    "collapsed": true
   },
   "outputs": [],
   "source": [
    "import pandas as pd\n",
    "import seaborn as sns"
   ]
  },
  {
   "cell_type": "code",
   "execution_count": 34,
   "metadata": {},
   "outputs": [],
   "source": [
    "def title_to_gender(title_series):\n",
    "    man = [\n",
    "        'M.',\n",
    "        'Mr.',\n",
    "        'Mr',\n",
    "        'M',\n",
    "    ]\n",
    "    \n",
    "    woman = [\n",
    "        'Ms.',\n",
    "        'Mlle',\n",
    "        'Mme',\n",
    "        'Mrs.',\n",
    "        'Ms',\n",
    "        'Miss',\n",
    "        'Ms..'\n",
    "        'Mme Gosselin',\n",
    "        'Mme.',\n",
    "        'Miss',\n",
    "        'Mrs'\n",
    "    ]\n",
    "    \n",
    "    couple = [\n",
    "        'Mr. & Mrs.',\n",
    "        'Mme et M.',\n",
    "        'M. et Mme',\n",
    "        'Ms. and Mr.',\n",
    "        'Mmes'\n",
    "    ]\n",
    "    \n",
    "    genders = []\n",
    "    \n",
    "    for each in title_series.iteritems():\n",
    "        \n",
    "        if each[1] in man:\n",
    "            gender = 'man'\n",
    "        elif each[1] in woman:\n",
    "            gender = 'woman'\n",
    "        elif each[1] in couple:\n",
    "            gender = 'couple'\n",
    "        else:\n",
    "            gender = ''\n",
    "        \n",
    "        genders.append(gender)\n",
    "        \n",
    "    return genders"
   ]
  },
  {
   "cell_type": "code",
   "execution_count": 35,
   "metadata": {
    "collapsed": true
   },
   "outputs": [],
   "source": [
    "df = pd.read_csv('./Kanpe donors - revised - dpfinancialexport (1).csv')"
   ]
  },
  {
   "cell_type": "code",
   "execution_count": 36,
   "metadata": {},
   "outputs": [],
   "source": [
    "columns = df.columns.values.tolist()"
   ]
  },
  {
   "cell_type": "code",
   "execution_count": 37,
   "metadata": {},
   "outputs": [],
   "source": [
    "cities = df.CITY.str.lower().sort_values().unique().tolist()\n",
    "# len(df.CITY.str.upper().sort_values().unique().tolist())"
   ]
  },
  {
   "cell_type": "code",
   "execution_count": 38,
   "metadata": {
    "collapsed": true
   },
   "outputs": [],
   "source": [
    "df.drop(\n",
    "    labels=['STATE', 'COUNTRY', 'LANGUAGE'],\n",
    "    axis=1,\n",
    "    inplace=True\n",
    ")"
   ]
  },
  {
   "cell_type": "code",
   "execution_count": 39,
   "metadata": {
    "collapsed": true
   },
   "outputs": [],
   "source": [
    "df['gender'] = title_to_gender(df['TITLE'])"
   ]
  },
  {
   "cell_type": "code",
   "execution_count": null,
   "metadata": {
    "collapsed": true
   },
   "outputs": [],
   "source": []
  }
 ],
 "metadata": {
  "kernelspec": {
   "display_name": "Python 3",
   "language": "python",
   "name": "python3"
  },
  "language_info": {
   "codemirror_mode": {
    "name": "ipython",
    "version": 3
   },
   "file_extension": ".py",
   "mimetype": "text/x-python",
   "name": "python",
   "nbconvert_exporter": "python",
   "pygments_lexer": "ipython3",
   "version": "3.6.1"
  }
 },
 "nbformat": 4,
 "nbformat_minor": 2
}
